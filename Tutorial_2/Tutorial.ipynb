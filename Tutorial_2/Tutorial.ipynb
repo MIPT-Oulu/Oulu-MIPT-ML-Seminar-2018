{
 "cells": [
  {
   "cell_type": "code",
   "execution_count": null,
   "metadata": {},
   "outputs": [],
   "source": [
    "%matplotlib inline\n",
    "\n",
    "# Normal modules\n",
    "import matplotlib.pyplot as plt\n",
    "import os\n",
    "import numpy as np\n",
    "import pandas as pd\n",
    "import cv2\n",
    "from sklearn.model_selection import StratifiedShuffleSplit\n",
    "from sklearn.metrics import roc_curve, roc_auc_score\n",
    "# Torch modules\n",
    "import torch\n",
    "from torch import nn\n",
    "import torch.optim as optim\n",
    "import torch.utils.data as data\n",
    "import torch.nn.functional as F\n",
    "from torch.autograd import Variable\n",
    "from torchvision import models\n",
    "from torchvision import transforms\n",
    "\n",
    "# Own codes written for this tutorial\n",
    "from codes import train_utils\n",
    "from codes import val_utils\n",
    "from codes.augmentations import *\n",
    "from codes.dataset import InvasiveSpeciesDataset\n"
   ]
  },
  {
   "cell_type": "code",
   "execution_count": null,
   "metadata": {},
   "outputs": [],
   "source": [
    "def plot_roc(gt, preds):\n",
    "    fpr1, tpr1, _ = roc_curve(gt, preds)\n",
    "    plt.figure(figsize=(6,6))\n",
    "    plt.plot(fpr1, tpr1,lw=2, c='b')\n",
    "    plt.plot([0, 1], [0,1], '--',c='black')\n",
    "    plt.grid()\n",
    "    plt.xlabel('False positive rate')\n",
    "    plt.ylabel('True positive rate')\n",
    "    plt.xlim(0,1)\n",
    "    plt.ylim(0,1)\n",
    "    plt.tight_layout()\n",
    "    plt.show()"
   ]
  },
  {
   "cell_type": "markdown",
   "metadata": {},
   "source": [
    "### Parameters"
   ]
  },
  {
   "cell_type": "code",
   "execution_count": null,
   "metadata": {},
   "outputs": [],
   "source": [
    "SEED = 42\n",
    "LR = 1e-2\n",
    "BS = 8\n",
    "DATSET_LOC = 'data/train/'\n",
    "WD = 1e-4\n",
    "MAX_EPOCH = 5"
   ]
  },
  {
   "cell_type": "markdown",
   "metadata": {},
   "source": [
    "## Exploration"
   ]
  },
  {
   "cell_type": "code",
   "execution_count": null,
   "metadata": {},
   "outputs": [],
   "source": [
    "metadata = pd.read_csv('data/train_labels.csv')\n",
    "metadata.name = metadata.apply(lambda x: str(x[0]), 1)\n",
    "metadata.head()"
   ]
  },
  {
   "cell_type": "code",
   "execution_count": null,
   "metadata": {},
   "outputs": [],
   "source": [
    "resize = (128,128)\n",
    "\n",
    "fname = str(metadata.name.loc[2]) + '.jpg'\n",
    "fname = os.path.join(DATSET_LOC, fname)\n",
    "\n",
    "img = cv2.imread(fname)\n",
    "img = cv2.resize(img, resize)\n",
    "img_inv = cv2.cvtColor(img, cv2.COLOR_BGR2RGB)\n",
    "\n",
    "\n",
    "fname = str(metadata.name.loc[0]) + '.jpg'\n",
    "fname = os.path.join(DATSET_LOC, fname)\n",
    "\n",
    "img = cv2.imread(fname)\n",
    "img = cv2.resize(img, resize)\n",
    "img_none = cv2.cvtColor(img, cv2.COLOR_BGR2RGB)"
   ]
  },
  {
   "cell_type": "code",
   "execution_count": null,
   "metadata": {},
   "outputs": [],
   "source": [
    "plt.figure(figsize=(8,8))\n",
    "plt.subplot(121)\n",
    "plt.title('None')\n",
    "plt.imshow(img_none)\n",
    "plt.subplot(122)\n",
    "plt.title('Ivasive')\n",
    "plt.imshow(img_inv)\n",
    "plt.show()"
   ]
  },
  {
   "cell_type": "markdown",
   "metadata": {},
   "source": [
    "### Train/Val Splits"
   ]
  },
  {
   "cell_type": "code",
   "execution_count": null,
   "metadata": {},
   "outputs": [],
   "source": [
    "sss = StratifiedShuffleSplit(2, train_size=0.8, test_size=0.2, random_state=SEED)\n",
    "train_index, test_index = next(sss.split(metadata['name'], metadata['invasive']))"
   ]
  },
  {
   "cell_type": "code",
   "execution_count": null,
   "metadata": {},
   "outputs": [],
   "source": [
    "X_train = metadata.iloc[train_index]\n",
    "X_val = metadata.iloc[test_index]"
   ]
  },
  {
   "cell_type": "markdown",
   "metadata": {},
   "source": [
    "### Augmentations and transforms"
   ]
  },
  {
   "cell_type": "code",
   "execution_count": null,
   "metadata": {},
   "outputs": [],
   "source": [
    "train_transforms  = transforms.Compose([\n",
    "    lambda x: cv2.resize(x, (130, 130)),\n",
    "    lambda x: augment_random_linear(x, sr=10, ssx=0.2, ssy=0.2),\n",
    "    lambda x: augment_random_crop(x, (128, 128)),\n",
    "    lambda x: augment_random_flip(x, hprob=0.5, vprob=0),\n",
    "    transforms.ToTensor(),\n",
    "    transforms.Normalize(mean=[0.485, 0.456, 0.406], std=[0.229, 0.224, 0.225])\n",
    "])\n",
    "\n",
    "val_transforms  = transforms.Compose([\n",
    "    lambda x: cv2.resize(x, (130, 130)),\n",
    "    lambda x: center_crop(x, (128, 128)),\n",
    "    transforms.ToTensor(),\n",
    "    transforms.Normalize(mean=[0.485, 0.456, 0.406], std=[0.229, 0.224, 0.225])\n",
    "])"
   ]
  },
  {
   "cell_type": "markdown",
   "metadata": {},
   "source": [
    "### Data loaders "
   ]
  },
  {
   "cell_type": "code",
   "execution_count": null,
   "metadata": {},
   "outputs": [],
   "source": [
    "train_ds = InvasiveSpeciesDataset(DATSET_LOC, X_train, train_transforms)\n",
    "train_loader = data.DataLoader(train_ds, BS, shuffle=True, drop_last=True, num_workers=4)\n",
    "\n",
    "val_ds = InvasiveSpeciesDataset(DATSET_LOC, X_val, val_transforms)\n",
    "val_loader = data.DataLoader(val_ds, BS, shuffle=True, drop_last=True, num_workers=4)"
   ]
  },
  {
   "cell_type": "markdown",
   "metadata": {},
   "source": [
    "### Network definition"
   ]
  },
  {
   "cell_type": "code",
   "execution_count": null,
   "metadata": {},
   "outputs": [],
   "source": [
    "class SqueezeFineTune(nn.Module):\n",
    "    def __init__(self):\n",
    "        super().__init__()\n",
    "        self.features = models.squeezenet1_1(pretrained=True).features\n",
    "        self.classifier = nn.Sequential(nn.Dropout(0.5),\n",
    "                                        nn.Linear(512,1)\n",
    "                                       )\n",
    "    def forward(self, x):\n",
    "        o = self.features(x)\n",
    "        o = F.adaptive_avg_pool2d(o, 1)\n",
    "        o = o.view(o.size(0), -1)\n",
    "        o = self.classifier(o)\n",
    "        return o"
   ]
  },
  {
   "cell_type": "markdown",
   "metadata": {},
   "source": [
    "### Network, optimizer, loss"
   ]
  },
  {
   "cell_type": "code",
   "execution_count": null,
   "metadata": {},
   "outputs": [],
   "source": [
    "# Initializing the network\n",
    "net = SqueezeFineTune()\n",
    "# Creating the optimizer\n",
    "optimizer = optim.Adam(net.classifier.parameters(), lr=LR, weight_decay=WD)\n",
    "# Creating the optimizer\n",
    "criterion = nn.BCEWithLogitsLoss()"
   ]
  },
  {
   "cell_type": "code",
   "execution_count": null,
   "metadata": {},
   "outputs": [],
   "source": [
    "train_losses = []\n",
    "val_losses = []\n",
    "\n",
    "for epoch in range(MAX_EPOCH):\n",
    "    # Training\n",
    "    train_loss = train_utils.train_epoch(epoch, net, optimizer, train_loader, criterion, MAX_EPOCH)\n",
    "    # Validating\n",
    "    val_loss, preds_val, truth_val = val_utils.validate_epoch(net, val_loader, criterion)\n",
    "    auc_val = roc_auc_score(truth_val, preds_val)\n",
    "    train_losses.append(train_loss)\n",
    "    val_losses.append(val_loss)\n",
    "    print('Epoch {} | Train loss: {:.4f} | Val. loss {:.4f} | Val. AUC {:.4f}'.format(epoch + 1, train_loss, val_loss, auc_val))"
   ]
  },
  {
   "cell_type": "code",
   "execution_count": null,
   "metadata": {},
   "outputs": [],
   "source": [
    "plot_roc(truth_val, preds_val)\n",
    "roc_auc_score(truth_val, preds_val)"
   ]
  },
  {
   "cell_type": "code",
   "execution_count": null,
   "metadata": {},
   "outputs": [],
   "source": []
  },
  {
   "cell_type": "code",
   "execution_count": null,
   "metadata": {},
   "outputs": [],
   "source": []
  }
 ],
 "metadata": {
  "kernelspec": {
   "display_name": "Python 3",
   "language": "python",
   "name": "python3"
  },
  "language_info": {
   "codemirror_mode": {
    "name": "ipython",
    "version": 3
   },
   "file_extension": ".py",
   "mimetype": "text/x-python",
   "name": "python",
   "nbconvert_exporter": "python",
   "pygments_lexer": "ipython3",
   "version": "3.6.2"
  }
 },
 "nbformat": 4,
 "nbformat_minor": 2
}
